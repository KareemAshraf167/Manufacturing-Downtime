{
  "nbformat": 4,
  "nbformat_minor": 0,
  "metadata": {
    "colab": {
      "provenance": [],
      "collapsed_sections": [
        "lYzhiFujXfGv"
      ]
    },
    "kernelspec": {
      "name": "python3",
      "display_name": "Python 3"
    },
    "language_info": {
      "name": "python"
    }
  },
  "cells": [
    {
      "cell_type": "markdown",
      "source": [
        "# **1-Loading DataSets**"
      ],
      "metadata": {
        "id": "OfFjZ9PKXL-g"
      }
    },
    {
      "cell_type": "code",
      "execution_count": null,
      "metadata": {
        "id": "ZFuDjaxkWysY"
      },
      "outputs": [],
      "source": [
        "import pandas as pd\n",
        "import numpy as np\n",
        "import matplotlib.pyplot as plt\n",
        "downtime_factors = pd.read_excel('Downtime factors.xlsx')\n",
        "line_downtime = pd.read_excel('Line downtime.xlsx')\n",
        "line_productivity = pd.read_excel('Line productivity.xlsx')\n",
        "products = pd.read_excel('Products.xlsx')"
      ]
    },
    {
      "cell_type": "markdown",
      "source": [
        "# **2-Exploratory data analysis**"
      ],
      "metadata": {
        "id": "lYzhiFujXfGv"
      }
    },
    {
      "cell_type": "code",
      "source": [
        "downtime_factors.head()\n",
        "line_downtime.head()\n",
        "line_productivity.tail()\n",
        "products.head()"
      ],
      "metadata": {
        "colab": {
          "base_uri": "https://localhost:8080/",
          "height": 206
        },
        "id": "aQXPrqsKXiC5",
        "outputId": "23a65bc2-bd40-4586-b860-a0541edfb1f8"
      },
      "execution_count": null,
      "outputs": [
        {
          "output_type": "execute_result",
          "data": {
            "text/plain": [
              "  Product      Flavor    Size  Min batch time\n",
              "0  OR-600      Orange  600 ml              60\n",
              "1  LE-600  Lemon lime  600 ml              60\n",
              "2  CO-600        Cola  600 ml              60\n",
              "3  DC-600   Diet Cola  600 ml              60\n",
              "4  RB-600  Root Berry  600 ml              60"
            ],
            "text/html": [
              "\n",
              "  <div id=\"df-7ee52a58-b70c-4377-a4a1-ec467c7fed86\" class=\"colab-df-container\">\n",
              "    <div>\n",
              "<style scoped>\n",
              "    .dataframe tbody tr th:only-of-type {\n",
              "        vertical-align: middle;\n",
              "    }\n",
              "\n",
              "    .dataframe tbody tr th {\n",
              "        vertical-align: top;\n",
              "    }\n",
              "\n",
              "    .dataframe thead th {\n",
              "        text-align: right;\n",
              "    }\n",
              "</style>\n",
              "<table border=\"1\" class=\"dataframe\">\n",
              "  <thead>\n",
              "    <tr style=\"text-align: right;\">\n",
              "      <th></th>\n",
              "      <th>Product</th>\n",
              "      <th>Flavor</th>\n",
              "      <th>Size</th>\n",
              "      <th>Min batch time</th>\n",
              "    </tr>\n",
              "  </thead>\n",
              "  <tbody>\n",
              "    <tr>\n",
              "      <th>0</th>\n",
              "      <td>OR-600</td>\n",
              "      <td>Orange</td>\n",
              "      <td>600 ml</td>\n",
              "      <td>60</td>\n",
              "    </tr>\n",
              "    <tr>\n",
              "      <th>1</th>\n",
              "      <td>LE-600</td>\n",
              "      <td>Lemon lime</td>\n",
              "      <td>600 ml</td>\n",
              "      <td>60</td>\n",
              "    </tr>\n",
              "    <tr>\n",
              "      <th>2</th>\n",
              "      <td>CO-600</td>\n",
              "      <td>Cola</td>\n",
              "      <td>600 ml</td>\n",
              "      <td>60</td>\n",
              "    </tr>\n",
              "    <tr>\n",
              "      <th>3</th>\n",
              "      <td>DC-600</td>\n",
              "      <td>Diet Cola</td>\n",
              "      <td>600 ml</td>\n",
              "      <td>60</td>\n",
              "    </tr>\n",
              "    <tr>\n",
              "      <th>4</th>\n",
              "      <td>RB-600</td>\n",
              "      <td>Root Berry</td>\n",
              "      <td>600 ml</td>\n",
              "      <td>60</td>\n",
              "    </tr>\n",
              "  </tbody>\n",
              "</table>\n",
              "</div>\n",
              "    <div class=\"colab-df-buttons\">\n",
              "\n",
              "  <div class=\"colab-df-container\">\n",
              "    <button class=\"colab-df-convert\" onclick=\"convertToInteractive('df-7ee52a58-b70c-4377-a4a1-ec467c7fed86')\"\n",
              "            title=\"Convert this dataframe to an interactive table.\"\n",
              "            style=\"display:none;\">\n",
              "\n",
              "  <svg xmlns=\"http://www.w3.org/2000/svg\" height=\"24px\" viewBox=\"0 -960 960 960\">\n",
              "    <path d=\"M120-120v-720h720v720H120Zm60-500h600v-160H180v160Zm220 220h160v-160H400v160Zm0 220h160v-160H400v160ZM180-400h160v-160H180v160Zm440 0h160v-160H620v160ZM180-180h160v-160H180v160Zm440 0h160v-160H620v160Z\"/>\n",
              "  </svg>\n",
              "    </button>\n",
              "\n",
              "  <style>\n",
              "    .colab-df-container {\n",
              "      display:flex;\n",
              "      gap: 12px;\n",
              "    }\n",
              "\n",
              "    .colab-df-convert {\n",
              "      background-color: #E8F0FE;\n",
              "      border: none;\n",
              "      border-radius: 50%;\n",
              "      cursor: pointer;\n",
              "      display: none;\n",
              "      fill: #1967D2;\n",
              "      height: 32px;\n",
              "      padding: 0 0 0 0;\n",
              "      width: 32px;\n",
              "    }\n",
              "\n",
              "    .colab-df-convert:hover {\n",
              "      background-color: #E2EBFA;\n",
              "      box-shadow: 0px 1px 2px rgba(60, 64, 67, 0.3), 0px 1px 3px 1px rgba(60, 64, 67, 0.15);\n",
              "      fill: #174EA6;\n",
              "    }\n",
              "\n",
              "    .colab-df-buttons div {\n",
              "      margin-bottom: 4px;\n",
              "    }\n",
              "\n",
              "    [theme=dark] .colab-df-convert {\n",
              "      background-color: #3B4455;\n",
              "      fill: #D2E3FC;\n",
              "    }\n",
              "\n",
              "    [theme=dark] .colab-df-convert:hover {\n",
              "      background-color: #434B5C;\n",
              "      box-shadow: 0px 1px 3px 1px rgba(0, 0, 0, 0.15);\n",
              "      filter: drop-shadow(0px 1px 2px rgba(0, 0, 0, 0.3));\n",
              "      fill: #FFFFFF;\n",
              "    }\n",
              "  </style>\n",
              "\n",
              "    <script>\n",
              "      const buttonEl =\n",
              "        document.querySelector('#df-7ee52a58-b70c-4377-a4a1-ec467c7fed86 button.colab-df-convert');\n",
              "      buttonEl.style.display =\n",
              "        google.colab.kernel.accessAllowed ? 'block' : 'none';\n",
              "\n",
              "      async function convertToInteractive(key) {\n",
              "        const element = document.querySelector('#df-7ee52a58-b70c-4377-a4a1-ec467c7fed86');\n",
              "        const dataTable =\n",
              "          await google.colab.kernel.invokeFunction('convertToInteractive',\n",
              "                                                    [key], {});\n",
              "        if (!dataTable) return;\n",
              "\n",
              "        const docLinkHtml = 'Like what you see? Visit the ' +\n",
              "          '<a target=\"_blank\" href=https://colab.research.google.com/notebooks/data_table.ipynb>data table notebook</a>'\n",
              "          + ' to learn more about interactive tables.';\n",
              "        element.innerHTML = '';\n",
              "        dataTable['output_type'] = 'display_data';\n",
              "        await google.colab.output.renderOutput(dataTable, element);\n",
              "        const docLink = document.createElement('div');\n",
              "        docLink.innerHTML = docLinkHtml;\n",
              "        element.appendChild(docLink);\n",
              "      }\n",
              "    </script>\n",
              "  </div>\n",
              "\n",
              "\n",
              "<div id=\"df-3b9b5e63-fdab-487d-8157-2af90e00debe\">\n",
              "  <button class=\"colab-df-quickchart\" onclick=\"quickchart('df-3b9b5e63-fdab-487d-8157-2af90e00debe')\"\n",
              "            title=\"Suggest charts\"\n",
              "            style=\"display:none;\">\n",
              "\n",
              "<svg xmlns=\"http://www.w3.org/2000/svg\" height=\"24px\"viewBox=\"0 0 24 24\"\n",
              "     width=\"24px\">\n",
              "    <g>\n",
              "        <path d=\"M19 3H5c-1.1 0-2 .9-2 2v14c0 1.1.9 2 2 2h14c1.1 0 2-.9 2-2V5c0-1.1-.9-2-2-2zM9 17H7v-7h2v7zm4 0h-2V7h2v10zm4 0h-2v-4h2v4z\"/>\n",
              "    </g>\n",
              "</svg>\n",
              "  </button>\n",
              "\n",
              "<style>\n",
              "  .colab-df-quickchart {\n",
              "      --bg-color: #E8F0FE;\n",
              "      --fill-color: #1967D2;\n",
              "      --hover-bg-color: #E2EBFA;\n",
              "      --hover-fill-color: #174EA6;\n",
              "      --disabled-fill-color: #AAA;\n",
              "      --disabled-bg-color: #DDD;\n",
              "  }\n",
              "\n",
              "  [theme=dark] .colab-df-quickchart {\n",
              "      --bg-color: #3B4455;\n",
              "      --fill-color: #D2E3FC;\n",
              "      --hover-bg-color: #434B5C;\n",
              "      --hover-fill-color: #FFFFFF;\n",
              "      --disabled-bg-color: #3B4455;\n",
              "      --disabled-fill-color: #666;\n",
              "  }\n",
              "\n",
              "  .colab-df-quickchart {\n",
              "    background-color: var(--bg-color);\n",
              "    border: none;\n",
              "    border-radius: 50%;\n",
              "    cursor: pointer;\n",
              "    display: none;\n",
              "    fill: var(--fill-color);\n",
              "    height: 32px;\n",
              "    padding: 0;\n",
              "    width: 32px;\n",
              "  }\n",
              "\n",
              "  .colab-df-quickchart:hover {\n",
              "    background-color: var(--hover-bg-color);\n",
              "    box-shadow: 0 1px 2px rgba(60, 64, 67, 0.3), 0 1px 3px 1px rgba(60, 64, 67, 0.15);\n",
              "    fill: var(--button-hover-fill-color);\n",
              "  }\n",
              "\n",
              "  .colab-df-quickchart-complete:disabled,\n",
              "  .colab-df-quickchart-complete:disabled:hover {\n",
              "    background-color: var(--disabled-bg-color);\n",
              "    fill: var(--disabled-fill-color);\n",
              "    box-shadow: none;\n",
              "  }\n",
              "\n",
              "  .colab-df-spinner {\n",
              "    border: 2px solid var(--fill-color);\n",
              "    border-color: transparent;\n",
              "    border-bottom-color: var(--fill-color);\n",
              "    animation:\n",
              "      spin 1s steps(1) infinite;\n",
              "  }\n",
              "\n",
              "  @keyframes spin {\n",
              "    0% {\n",
              "      border-color: transparent;\n",
              "      border-bottom-color: var(--fill-color);\n",
              "      border-left-color: var(--fill-color);\n",
              "    }\n",
              "    20% {\n",
              "      border-color: transparent;\n",
              "      border-left-color: var(--fill-color);\n",
              "      border-top-color: var(--fill-color);\n",
              "    }\n",
              "    30% {\n",
              "      border-color: transparent;\n",
              "      border-left-color: var(--fill-color);\n",
              "      border-top-color: var(--fill-color);\n",
              "      border-right-color: var(--fill-color);\n",
              "    }\n",
              "    40% {\n",
              "      border-color: transparent;\n",
              "      border-right-color: var(--fill-color);\n",
              "      border-top-color: var(--fill-color);\n",
              "    }\n",
              "    60% {\n",
              "      border-color: transparent;\n",
              "      border-right-color: var(--fill-color);\n",
              "    }\n",
              "    80% {\n",
              "      border-color: transparent;\n",
              "      border-right-color: var(--fill-color);\n",
              "      border-bottom-color: var(--fill-color);\n",
              "    }\n",
              "    90% {\n",
              "      border-color: transparent;\n",
              "      border-bottom-color: var(--fill-color);\n",
              "    }\n",
              "  }\n",
              "</style>\n",
              "\n",
              "  <script>\n",
              "    async function quickchart(key) {\n",
              "      const quickchartButtonEl =\n",
              "        document.querySelector('#' + key + ' button');\n",
              "      quickchartButtonEl.disabled = true;  // To prevent multiple clicks.\n",
              "      quickchartButtonEl.classList.add('colab-df-spinner');\n",
              "      try {\n",
              "        const charts = await google.colab.kernel.invokeFunction(\n",
              "            'suggestCharts', [key], {});\n",
              "      } catch (error) {\n",
              "        console.error('Error during call to suggestCharts:', error);\n",
              "      }\n",
              "      quickchartButtonEl.classList.remove('colab-df-spinner');\n",
              "      quickchartButtonEl.classList.add('colab-df-quickchart-complete');\n",
              "    }\n",
              "    (() => {\n",
              "      let quickchartButtonEl =\n",
              "        document.querySelector('#df-3b9b5e63-fdab-487d-8157-2af90e00debe button');\n",
              "      quickchartButtonEl.style.display =\n",
              "        google.colab.kernel.accessAllowed ? 'block' : 'none';\n",
              "    })();\n",
              "  </script>\n",
              "</div>\n",
              "\n",
              "    </div>\n",
              "  </div>\n"
            ],
            "application/vnd.google.colaboratory.intrinsic+json": {
              "type": "dataframe",
              "variable_name": "products",
              "summary": "{\n  \"name\": \"products\",\n  \"rows\": 6,\n  \"fields\": [\n    {\n      \"column\": \"Product\",\n      \"properties\": {\n        \"dtype\": \"string\",\n        \"num_unique_values\": 6,\n        \"samples\": [\n          \"OR-600\",\n          \"LE-600\",\n          \"CO-2L\"\n        ],\n        \"semantic_type\": \"\",\n        \"description\": \"\"\n      }\n    },\n    {\n      \"column\": \"Flavor\",\n      \"properties\": {\n        \"dtype\": \"string\",\n        \"num_unique_values\": 5,\n        \"samples\": [\n          \"Lemon lime\",\n          \"Root Berry\",\n          \"Cola\"\n        ],\n        \"semantic_type\": \"\",\n        \"description\": \"\"\n      }\n    },\n    {\n      \"column\": \"Size\",\n      \"properties\": {\n        \"dtype\": \"category\",\n        \"num_unique_values\": 2,\n        \"samples\": [\n          \"2 L\",\n          \"600 ml\"\n        ],\n        \"semantic_type\": \"\",\n        \"description\": \"\"\n      }\n    },\n    {\n      \"column\": \"Min batch time\",\n      \"properties\": {\n        \"dtype\": \"number\",\n        \"std\": 15,\n        \"min\": 60,\n        \"max\": 98,\n        \"num_unique_values\": 2,\n        \"samples\": [\n          98,\n          60\n        ],\n        \"semantic_type\": \"\",\n        \"description\": \"\"\n      }\n    }\n  ]\n}"
            }
          },
          "metadata": {},
          "execution_count": 9
        }
      ]
    },
    {
      "cell_type": "code",
      "source": [
        "downtime_factors.dtypes\n",
        "line_downtime.dtypes\n",
        "line_productivity.dtypes\n",
        "products.dtypes"
      ],
      "metadata": {
        "colab": {
          "base_uri": "https://localhost:8080/",
          "height": 210
        },
        "id": "w4aJ4sWkXnL1",
        "outputId": "3e486a64-2f0b-41e1-c03e-edd39b5b928f"
      },
      "execution_count": null,
      "outputs": [
        {
          "output_type": "execute_result",
          "data": {
            "text/plain": [
              "Product           object\n",
              "Flavor            object\n",
              "Size              object\n",
              "Min batch time     int64\n",
              "dtype: object"
            ],
            "text/html": [
              "<div>\n",
              "<style scoped>\n",
              "    .dataframe tbody tr th:only-of-type {\n",
              "        vertical-align: middle;\n",
              "    }\n",
              "\n",
              "    .dataframe tbody tr th {\n",
              "        vertical-align: top;\n",
              "    }\n",
              "\n",
              "    .dataframe thead th {\n",
              "        text-align: right;\n",
              "    }\n",
              "</style>\n",
              "<table border=\"1\" class=\"dataframe\">\n",
              "  <thead>\n",
              "    <tr style=\"text-align: right;\">\n",
              "      <th></th>\n",
              "      <th>0</th>\n",
              "    </tr>\n",
              "  </thead>\n",
              "  <tbody>\n",
              "    <tr>\n",
              "      <th>Product</th>\n",
              "      <td>object</td>\n",
              "    </tr>\n",
              "    <tr>\n",
              "      <th>Flavor</th>\n",
              "      <td>object</td>\n",
              "    </tr>\n",
              "    <tr>\n",
              "      <th>Size</th>\n",
              "      <td>object</td>\n",
              "    </tr>\n",
              "    <tr>\n",
              "      <th>Min batch time</th>\n",
              "      <td>int64</td>\n",
              "    </tr>\n",
              "  </tbody>\n",
              "</table>\n",
              "</div><br><label><b>dtype:</b> object</label>"
            ]
          },
          "metadata": {},
          "execution_count": 10
        }
      ]
    },
    {
      "cell_type": "code",
      "source": [
        "downtime_factors.info()\n",
        "line_downtime.info()\n",
        "line_productivity.info()\n",
        "products.info()"
      ],
      "metadata": {
        "colab": {
          "base_uri": "https://localhost:8080/"
        },
        "collapsed": true,
        "id": "u5AZUnbeuUYD",
        "outputId": "89db9558-1228-4fde-fba8-373d23de49d4"
      },
      "execution_count": null,
      "outputs": [
        {
          "output_type": "stream",
          "name": "stdout",
          "text": [
            "<class 'pandas.core.frame.DataFrame'>\n",
            "RangeIndex: 12 entries, 0 to 11\n",
            "Data columns (total 3 columns):\n",
            " #   Column          Non-Null Count  Dtype \n",
            "---  ------          --------------  ----- \n",
            " 0   Factor          12 non-null     int64 \n",
            " 1   Description     12 non-null     object\n",
            " 2   Operator Error  12 non-null     object\n",
            "dtypes: int64(1), object(2)\n",
            "memory usage: 420.0+ bytes\n",
            "<class 'pandas.core.frame.DataFrame'>\n",
            "RangeIndex: 38 entries, 0 to 37\n",
            "Data columns (total 13 columns):\n",
            " #   Column  Non-Null Count  Dtype  \n",
            "---  ------  --------------  -----  \n",
            " 0   Batch   38 non-null     int64  \n",
            " 1   1       0 non-null      float64\n",
            " 2   2       5 non-null      float64\n",
            " 3   3       2 non-null      float64\n",
            " 4   4       9 non-null      float64\n",
            " 5   5       3 non-null      float64\n",
            " 6   6       12 non-null     float64\n",
            " 7   7       11 non-null     float64\n",
            " 8   8       6 non-null      float64\n",
            " 9   9       1 non-null      float64\n",
            " 10  10      3 non-null      float64\n",
            " 11  11      3 non-null      float64\n",
            " 12  12      6 non-null      float64\n",
            "dtypes: float64(12), int64(1)\n",
            "memory usage: 4.0 KB\n",
            "<class 'pandas.core.frame.DataFrame'>\n",
            "RangeIndex: 38 entries, 0 to 37\n",
            "Data columns (total 6 columns):\n",
            " #   Column      Non-Null Count  Dtype         \n",
            "---  ------      --------------  -----         \n",
            " 0   Date        38 non-null     datetime64[ns]\n",
            " 1   Product     38 non-null     object        \n",
            " 2   Batch       38 non-null     int64         \n",
            " 3   Operator    38 non-null     object        \n",
            " 4   Start Time  38 non-null     object        \n",
            " 5   End Time    38 non-null     object        \n",
            "dtypes: datetime64[ns](1), int64(1), object(4)\n",
            "memory usage: 1.9+ KB\n",
            "<class 'pandas.core.frame.DataFrame'>\n",
            "RangeIndex: 6 entries, 0 to 5\n",
            "Data columns (total 4 columns):\n",
            " #   Column          Non-Null Count  Dtype \n",
            "---  ------          --------------  ----- \n",
            " 0   Product         6 non-null      object\n",
            " 1   Flavor          6 non-null      object\n",
            " 2   Size            6 non-null      object\n",
            " 3   Min batch time  6 non-null      int64 \n",
            "dtypes: int64(1), object(3)\n",
            "memory usage: 324.0+ bytes\n"
          ]
        }
      ]
    },
    {
      "cell_type": "code",
      "source": [
        "downtime_factors.isnull().sum()\n",
        "line_downtime.isnull().sum()\n",
        "line_productivity.isnull().sum()\n",
        "products.isnull().sum()"
      ],
      "metadata": {
        "colab": {
          "base_uri": "https://localhost:8080/",
          "height": 210
        },
        "id": "pjH7LkTuu9iM",
        "outputId": "f6b8a576-ff3f-4f44-e4e9-09c1faea0fd0"
      },
      "execution_count": null,
      "outputs": [
        {
          "output_type": "execute_result",
          "data": {
            "text/plain": [
              "Product           0\n",
              "Flavor            0\n",
              "Size              0\n",
              "Min batch time    0\n",
              "dtype: int64"
            ],
            "text/html": [
              "<div>\n",
              "<style scoped>\n",
              "    .dataframe tbody tr th:only-of-type {\n",
              "        vertical-align: middle;\n",
              "    }\n",
              "\n",
              "    .dataframe tbody tr th {\n",
              "        vertical-align: top;\n",
              "    }\n",
              "\n",
              "    .dataframe thead th {\n",
              "        text-align: right;\n",
              "    }\n",
              "</style>\n",
              "<table border=\"1\" class=\"dataframe\">\n",
              "  <thead>\n",
              "    <tr style=\"text-align: right;\">\n",
              "      <th></th>\n",
              "      <th>0</th>\n",
              "    </tr>\n",
              "  </thead>\n",
              "  <tbody>\n",
              "    <tr>\n",
              "      <th>Product</th>\n",
              "      <td>0</td>\n",
              "    </tr>\n",
              "    <tr>\n",
              "      <th>Flavor</th>\n",
              "      <td>0</td>\n",
              "    </tr>\n",
              "    <tr>\n",
              "      <th>Size</th>\n",
              "      <td>0</td>\n",
              "    </tr>\n",
              "    <tr>\n",
              "      <th>Min batch time</th>\n",
              "      <td>0</td>\n",
              "    </tr>\n",
              "  </tbody>\n",
              "</table>\n",
              "</div><br><label><b>dtype:</b> int64</label>"
            ]
          },
          "metadata": {},
          "execution_count": 12
        }
      ]
    },
    {
      "cell_type": "code",
      "source": [
        "print(line_productivity['Start Time'])\n",
        "print(line_productivity['End Time'])"
      ],
      "metadata": {
        "colab": {
          "base_uri": "https://localhost:8080/"
        },
        "collapsed": true,
        "id": "DtOk4lLox9us",
        "outputId": "2b7ed2c8-81f9-4770-d8a7-ba7433558d08"
      },
      "execution_count": null,
      "outputs": [
        {
          "output_type": "stream",
          "name": "stdout",
          "text": [
            "0     11:50:00\n",
            "1     14:05:00\n",
            "2     15:45:00\n",
            "3     17:35:00\n",
            "4     19:15:00\n",
            "5     20:39:00\n",
            "6     21:39:00\n",
            "7     04:05:00\n",
            "8     06:05:00\n",
            "9     07:30:00\n",
            "10    09:22:00\n",
            "11    10:37:00\n",
            "12    12:02:00\n",
            "13    14:15:00\n",
            "14    15:55:00\n",
            "15    17:15:00\n",
            "16    18:59:00\n",
            "17    20:22:00\n",
            "18    22:14:00\n",
            "19    07:45:00\n",
            "20    09:05:00\n",
            "21    10:35:00\n",
            "22    11:35:00\n",
            "23    12:55:00\n",
            "24    14:45:00\n",
            "25    16:30:00\n",
            "26    01:00:00\n",
            "27    02:45:00\n",
            "28    04:05:00\n",
            "29    05:40:00\n",
            "30    07:43:00\n",
            "31    08:50:00\n",
            "32    10:20:00\n",
            "33    12:18:00\n",
            "34    14:50:00\n",
            "35    16:50:00\n",
            "36    19:30:00\n",
            "37    22:55:00\n",
            "Name: Start Time, dtype: object\n",
            "0     14:05:00\n",
            "1     15:45:00\n",
            "2     17:35:00\n",
            "3     19:15:00\n",
            "4     20:39:00\n",
            "5     21:39:00\n",
            "6     22:54:00\n",
            "7     06:05:00\n",
            "8     07:30:00\n",
            "9     09:22:00\n",
            "10    10:37:00\n",
            "11    12:02:00\n",
            "12    14:15:00\n",
            "13    15:55:00\n",
            "14    17:15:00\n",
            "15    18:59:00\n",
            "16    20:22:00\n",
            "17    22:14:00\n",
            "18    23:29:00\n",
            "19    09:05:00\n",
            "20    10:35:00\n",
            "21    11:35:00\n",
            "22    12:55:00\n",
            "23    14:45:00\n",
            "24    16:30:00\n",
            "25    17:30:00\n",
            "26    02:45:00\n",
            "27    04:05:00\n",
            "28    05:40:00\n",
            "29    07:43:00\n",
            "30    08:50:00\n",
            "31    10:20:00\n",
            "32    12:18:00\n",
            "33    14:50:00\n",
            "34    16:50:00\n",
            "35    19:30:00\n",
            "36    22:55:00\n",
            "37    01:05:00\n",
            "Name: End Time, dtype: object\n"
          ]
        }
      ]
    },
    {
      "cell_type": "code",
      "source": [
        "print(line_productivity.duplicated().sum())"
      ],
      "metadata": {
        "colab": {
          "base_uri": "https://localhost:8080/"
        },
        "id": "P-srZqhF0ip2",
        "outputId": "ecdc9131-c03c-48eb-9440-a064ac4a6068"
      },
      "execution_count": null,
      "outputs": [
        {
          "output_type": "stream",
          "name": "stdout",
          "text": [
            "0\n"
          ]
        }
      ]
    },
    {
      "cell_type": "code",
      "source": [
        "missing_batches = set(line_downtime['Batch']) - set(line_productivity['Batch'])\n",
        "print(f\"Missing batches in productivity data: {missing_batches}\")"
      ],
      "metadata": {
        "colab": {
          "base_uri": "https://localhost:8080/"
        },
        "id": "yruuyAAm0qR6",
        "outputId": "477e3b8f-f0d9-4f40-a824-1e2c06adef80"
      },
      "execution_count": null,
      "outputs": [
        {
          "output_type": "stream",
          "name": "stdout",
          "text": [
            "Missing batches in productivity data: set()\n"
          ]
        }
      ]
    },
    {
      "cell_type": "code",
      "source": [
        "missing_products = set(line_productivity['Product']) - set(products['Product'])\n",
        "print(f\"Missing products in product data: {missing_products}\")"
      ],
      "metadata": {
        "colab": {
          "base_uri": "https://localhost:8080/"
        },
        "id": "WgO58pNB1UmK",
        "outputId": "23cb4482-2d0c-4576-f661-b5e0dbc51216"
      },
      "execution_count": null,
      "outputs": [
        {
          "output_type": "stream",
          "name": "stdout",
          "text": [
            "Missing products in product data: set()\n"
          ]
        }
      ]
    },
    {
      "cell_type": "markdown",
      "source": [
        "# **3-Data Cleaning and Preprocessing**"
      ],
      "metadata": {
        "id": "UCMQDFuUX37T"
      }
    },
    {
      "cell_type": "code",
      "source": [
        "line_downtime.fillna(0, inplace=True)"
      ],
      "metadata": {
        "id": "jPPzhe75jtCS"
      },
      "execution_count": null,
      "outputs": []
    },
    {
      "cell_type": "code",
      "source": [
        "line_productivity['Start Time'] = pd.to_datetime(line_productivity['Start Time'], format='%H:%M:%S')\n",
        "line_productivity['End Time'] = pd.to_datetime(line_productivity['End Time'], format='%H:%M:%S')"
      ],
      "metadata": {
        "id": "k2RjT2NEZX6l"
      },
      "execution_count": null,
      "outputs": []
    },
    {
      "cell_type": "code",
      "source": [
        "line_productivity['Start Time'] = pd.to_datetime(line_productivity['Date'].astype(str) + ' ' + line_productivity['Start Time'].astype(str))\n",
        "line_productivity['End Time'] = pd.to_datetime(line_productivity['Date'].astype(str) + ' ' + line_productivity['End Time'].astype(str))\n",
        "#Handle datetime Issues\n"
      ],
      "metadata": {
        "colab": {
          "base_uri": "https://localhost:8080/"
        },
        "collapsed": true,
        "id": "GOO7iSz2g_fr",
        "outputId": "9aa716d3-a172-4c4c-b46f-a0f8751b88cb"
      },
      "execution_count": null,
      "outputs": [
        {
          "output_type": "stream",
          "name": "stderr",
          "text": [
            "<ipython-input-19-5cc7c2b44874>:1: UserWarning: Could not infer format, so each element will be parsed individually, falling back to `dateutil`. To ensure parsing is consistent and as-expected, please specify a format.\n",
            "  line_productivity['Start Time'] = pd.to_datetime(line_productivity['Date'].astype(str) + ' ' + line_productivity['Start Time'].astype(str))\n",
            "<ipython-input-19-5cc7c2b44874>:2: UserWarning: Could not infer format, so each element will be parsed individually, falling back to `dateutil`. To ensure parsing is consistent and as-expected, please specify a format.\n",
            "  line_productivity['End Time'] = pd.to_datetime(line_productivity['Date'].astype(str) + ' ' + line_productivity['End Time'].astype(str))\n"
          ]
        }
      ]
    },
    {
      "cell_type": "code",
      "source": [
        "# Adjust End Time for overnight shifts\n",
        "line_productivity.loc[line_productivity['End Time'] < line_productivity['Start Time'], 'End Time'] += pd.Timedelta(days=1)"
      ],
      "metadata": {
        "id": "hzI4zQZWkm56"
      },
      "execution_count": null,
      "outputs": []
    },
    {
      "cell_type": "code",
      "source": [
        "line_productivity['Start Time'] = line_productivity['Start Time'].dt.tz_localize(None)\n",
        "line_productivity['End Time'] = line_productivity['End Time'].dt.tz_localize(None)\n",
        "#Handle Timezone Issues\n"
      ],
      "metadata": {
        "id": "bNhMePYQh-Py"
      },
      "execution_count": null,
      "outputs": []
    },
    {
      "cell_type": "code",
      "source": [
        "line_productivity['Duration'] = (line_productivity['End Time'] - line_productivity['Start Time']).dt.total_seconds() / 60  # Convert to minutes\n",
        "#duration = end time - start time"
      ],
      "metadata": {
        "id": "nLxziH9jZ65K"
      },
      "execution_count": null,
      "outputs": []
    },
    {
      "cell_type": "code",
      "source": [
        "line_productivity['Hour'] = line_productivity['Start Time'].dt.hour\n",
        "line_productivity['Shift'] = line_productivity['Hour'].apply(lambda x: 'Night' if x < 6 else ('Morning' if x < 12 else ('Afternoon' if x < 18 else 'Evening')))\n",
        "#hour and shift"
      ],
      "metadata": {
        "id": "t2agkniadLTo"
      },
      "execution_count": null,
      "outputs": []
    },
    {
      "cell_type": "code",
      "source": [
        "line_downtime['Total Downtime'] = line_downtime.iloc[:, 1:].sum(axis=1)\n",
        "#Calculate Downtime per Batch"
      ],
      "metadata": {
        "id": "T-6nCIH1YrFB"
      },
      "execution_count": null,
      "outputs": []
    },
    {
      "cell_type": "code",
      "source": [
        "downtime_map = dict(zip(line_downtime['Batch'], line_downtime['Total Downtime']))\n",
        "line_productivity['Total Downtime'] = line_productivity['Batch'].map(downtime_map)\n",
        "#Map Total Downtime to the line_productivity DataFrame using the Batch column"
      ],
      "metadata": {
        "id": "ZqtgOF0yYzwV"
      },
      "execution_count": null,
      "outputs": []
    },
    {
      "cell_type": "code",
      "source": [
        "line_productivity['Efficiency'] = ((line_productivity['Duration'] - line_productivity['Total Downtime']) / line_productivity['Duration']) * 100\n",
        "#Calculate Efficiency"
      ],
      "metadata": {
        "id": "rXqjQah_fC1z"
      },
      "execution_count": null,
      "outputs": []
    },
    {
      "cell_type": "code",
      "source": [
        "########### Add Both Factor Numbers and Descriptions ##############\n",
        "\n",
        "# Create a mapping from factor numbers to descriptions\n",
        "factor_mapping = dict(zip(downtime_factors['Factor'], downtime_factors['Description']))\n",
        "\n",
        "# Function to map downtime factors to their descriptions\n",
        "def map_factors(row):\n",
        "    # Convert column names to integers for mapping, but only for numeric columns\n",
        "    factors = [factor_mapping[int(col)] for col in row.index if str(col).isdigit() and row[col] > 0]\n",
        "    return ', '.join(factors) if factors else 'No downtime'\n",
        "\n",
        "# Apply the function to each row in the line_downtime DataFrame\n",
        "line_downtime['Downtime Factors (Descriptions)'] = line_downtime.iloc[:, 1:].apply(map_factors, axis=1)\n"
      ],
      "metadata": {
        "id": "ZZGV1ArhgN70"
      },
      "execution_count": null,
      "outputs": []
    },
    {
      "cell_type": "code",
      "source": [
        "#Operator Error\n",
        "factor_mapping = dict(zip(downtime_factors['Factor'], downtime_factors['Description']))\n",
        "operator_error_mapping = dict(zip(downtime_factors['Factor'], downtime_factors['Operator Error']))\n",
        "\n",
        "# Function to map downtime factors to their descriptions and categorize human errors\n",
        "def map_factors(row):\n",
        "    factors = []\n",
        "    human_errors = []\n",
        "    for col in row.index:\n",
        "        if str(col).isdigit() and row[col] > 0:\n",
        "            factors.append(factor_mapping[int(col)])\n",
        "            human_errors.append(operator_error_mapping[int(col)])\n",
        "    return ', '.join(factors) if factors else 'No downtime', ', '.join(human_errors) if factors else 'No downtime'\n",
        "\n",
        "# Apply the function to each row in the line_downtime DataFrame\n",
        "line_downtime[['Downtime Factors (Descriptions)', 'Human Errors']] = line_downtime.iloc[:, 1:].apply(map_factors, axis=1, result_type='expand')\n"
      ],
      "metadata": {
        "id": "2JhD3oYQlknC"
      },
      "execution_count": null,
      "outputs": []
    },
    {
      "cell_type": "code",
      "source": [
        "#Total Downtime with and without Human Errors\n",
        "# Create a mapping from factor numbers to descriptions and operator error status\n",
        "factor_mapping = dict(zip(downtime_factors['Factor'], downtime_factors['Description']))\n",
        "operator_error_mapping = dict(zip(downtime_factors['Factor'], downtime_factors['Operator Error']))\n",
        "\n",
        "# Function to calculate total downtime with and without human errors\n",
        "def calculate_human_error_downtime(row):\n",
        "    total_with_human = 0\n",
        "    total_without_human = 0\n",
        "    for col in row.index:\n",
        "        if str(col).isdigit() and row[col] > 0:\n",
        "            if operator_error_mapping[int(col)] == 'Yes':\n",
        "                total_with_human += row[col]\n",
        "            else:\n",
        "                total_without_human += row[col]\n",
        "    return total_with_human, total_without_human\n",
        "\n",
        "# Apply the function to each row in the line_downtime DataFrame\n",
        "line_downtime[['Total Downtime with Human Errors', 'Total Downtime without Human Errors']] = line_downtime.iloc[:, 1:].apply(calculate_human_error_downtime, axis=1, result_type='expand')"
      ],
      "metadata": {
        "id": "pgPHJq6hJicu"
      },
      "execution_count": null,
      "outputs": []
    },
    {
      "cell_type": "code",
      "source": [
        "# Create a mapping from product to minimum batch time\n",
        "min_batch_time_mapping = dict(zip(products['Product'], products['Min batch time']))\n",
        "\n",
        "# Map minimum batch time to each batch in line_productivity\n",
        "line_productivity['Min Batch Time'] = line_productivity['Product'].map(min_batch_time_mapping)\n",
        "\n",
        "# Verify that 'Min Batch Time' column exists\n",
        "if 'Min Batch Time' not in line_productivity.columns:\n",
        "    raise KeyError(\"'Min Batch Time' column not found in line_productivity. Check the mapping.\")\n",
        "\n",
        "# Map total downtime with and without human errors to line_productivity\n",
        "downtime_map_with_human = dict(zip(line_downtime['Batch'], line_downtime['Total Downtime with Human Errors']))\n",
        "downtime_map_without_human = dict(zip(line_downtime['Batch'], line_downtime['Total Downtime without Human Errors']))\n",
        "line_productivity['Total Downtime with Human Errors'] = line_productivity['Batch'].map(downtime_map_with_human)\n",
        "line_productivity['Total Downtime without Human Errors'] = line_productivity['Batch'].map(downtime_map_without_human)\n",
        "\n",
        "# Calculate efficiency excluding human errors\n",
        "line_productivity['Line lagging Efficiency'] = (line_productivity['Min Batch Time'] / (line_productivity['Duration'] - line_productivity['Total Downtime with Human Errors'])) * 100\n",
        "\n",
        "# Calculate efficiency excluding non-human errors\n",
        "line_productivity['Opreator lagging Efficiency'] = (line_productivity['Min Batch Time'] / (line_productivity['Duration'] - line_productivity['Total Downtime without Human Errors'])) * 100"
      ],
      "metadata": {
        "id": "QJ9ErABoOgyO"
      },
      "execution_count": null,
      "outputs": []
    },
    {
      "cell_type": "markdown",
      "source": [
        "# **Export Data**"
      ],
      "metadata": {
        "id": "mpPk4vlpjfoc"
      }
    },
    {
      "cell_type": "code",
      "source": [
        "downtime_factors.to_excel('downtime_factorsEdited.xlsx', index=False)\n",
        "line_downtime.to_excel('line_downtimeEdited.xlsx', index=False)\n",
        "line_productivity.to_excel('line_productivityEdited.xlsx', index=False)\n",
        "products.to_excel('productsEdited.xlsx', index=False)"
      ],
      "metadata": {
        "id": "Whx0L2cRjilr"
      },
      "execution_count": null,
      "outputs": []
    }
  ]
}